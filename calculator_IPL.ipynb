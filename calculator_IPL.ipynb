{
  "cells": [
    {
      "cell_type": "markdown",
      "metadata": {
        "id": "jzYau1w-JikL"
      },
      "source": [
        "## Kalkulator perhitungan integral dan perhitungan faktorial & kombinasi.\n",
        "\n",
        "#### mungkin berguna untuk ujian CLO-1 dan CLO-2, silahkan dimanfaatkan sebaik-baiknya"
      ]
    },
    {
      "cell_type": "code",
      "execution_count": null,
      "metadata": {
        "id": "_PNhDTQrJ0g5"
      },
      "outputs": [],
      "source": [
        "from sympy import *\n",
        "init_printing(use_unicode=False, wrap_line = False)\n",
        "from sympy import pi, sin, cos\n",
        "from sympy.functions import exp"
      ]
    },
    {
      "cell_type": "code",
      "execution_count": null,
      "metadata": {
        "colab": {
          "base_uri": "https://localhost:8080/"
        },
        "id": "jiP7I1p6YK4r",
        "outputId": "fbb40ac1-5d96-4213-f2e3-51a42908061d"
      },
      "outputs": [
        {
          "name": "stdout",
          "output_type": "stream",
          "text": [
            "sample_data\n"
          ]
        }
      ],
      "source": [
        "!ls\n"
      ]
    },
    {
      "cell_type": "code",
      "execution_count": null,
      "metadata": {
        "colab": {
          "base_uri": "https://localhost:8080/",
          "height": 71
        },
        "id": "PPx6eov8Jkmo",
        "outputId": "1aa04fb9-8fd1-4e4a-8cff-b7bddf92564e"
      },
      "outputs": [
        {
          "name": "stdout",
          "output_type": "stream",
          "text": [
            "hasil anti turunan: \n"
          ]
        },
        {
          "data": {
            "image/png": "[encoded data removed]",
            "text/latex": [
              "$\\displaystyle \\frac{x^{3}}{3} + \\frac{x^{2}}{2} + x$"
            ],
            "text/plain": [
              " 3    2    \n",
              "x    x     \n",
              "-- + -- + x\n",
              "3    2     "
            ]
          },
          "execution_count": 15,
          "metadata": {},
          "output_type": "execute_result"
        }
      ],
      "source": [
        "# perhitungan integral satu variabel simbolik (Anti Turunan)\n",
        "x = Symbol('x')\n",
        "\n",
        "#INPUT f(x) here, function of x:\n",
        "def f(x):\n",
        "  return x**2 + x + 1   # <---- INPUT the function here\n",
        "\n",
        "print('hasil anti turunan: ')\n",
        "integrate(f(x),x)\n"
      ]
    },
    {
      "cell_type": "code",
      "execution_count": null,
      "metadata": {
        "colab": {
          "base_uri": "https://localhost:8080/",
          "height": 70
        },
        "id": "llC7LRb-JodJ",
        "outputId": "0c271b04-3da1-4c03-8391-a485bad63b6a"
      },
      "outputs": [
        {
          "name": "stdout",
          "output_type": "stream",
          "text": [
            "hasil anti turunan: \n"
          ]
        },
        {
          "data": {
            "image/png": "[encoded data removed]",
            "text/latex": [
              "$\\displaystyle - x \\cos{\\left(y \\right)} + \\frac{y \\sin{\\left(\\pi x \\right)}}{\\pi}$"
            ],
            "text/plain": [
              "            y*sin(pi*x)\n",
              "-x*cos(y) + -----------\n",
              "                 pi    "
            ]
          },
          "execution_count": 27,
          "metadata": {},
          "output_type": "execute_result"
        }
      ],
      "source": [
        "# Perhitungan integral lipat dua simbolik (Anti Turunan)\n",
        "x, y = symbols('x y', real=True)\n",
        "\n",
        "#input f(x,y) here \n",
        "def f2(x,y):\n",
        "  return cos(pi*x)+sin(y) # <---- INPUT the function f(x,y) here\n",
        "\n",
        "print('hasil anti turunan: ')\n",
        "integrate(integrate(f2(x,y),x),y)"
      ]
    },
    {
      "cell_type": "markdown",
      "metadata": {
        "id": "XNeHXTFJhg3i"
      },
      "source": [
        " ## Hitung integral satu variabel, dengan nilai batas konstan \n",
        "\n",
        "CONTOH: $   f(x)=\\int_{0}^{2}\\ 3x\\ dx  $"
      ]
    },
    {
      "cell_type": "code",
      "execution_count": null,
      "metadata": {
        "colab": {
          "base_uri": "https://localhost:8080/"
        },
        "id": "ismGiEhzJq58",
        "outputId": "ad62b30b-7384-4551-b604-057b1f0e6d98"
      },
      "outputs": [
        {
          "name": "stdout",
          "output_type": "stream",
          "text": [
            "6.0\n"
          ]
        }
      ],
      "source": [
        "# perhitungan integral satu variabel dengan batas\n",
        "from scipy.integrate import quad\n",
        "import numpy as np\n",
        "\n",
        "'''Untuk fungsi exponensial, cos , sin, dan pi, silakan masing-masing gunakan syntax np.exp, np.sin, np.cos, np.pi'''\n",
        "\n",
        "# INPUT fungsi f(x)\n",
        "def integrand(x):\n",
        "    'Harus integralkan y dulu baru x'\n",
        "    return  (3*x)\n",
        "\n",
        "# inputkan batas x (harus konstanta)\n",
        "x_atas = 2\n",
        "x_bawah = 0\n",
        "\n",
        "ans, err = quad(integrand, x_bawah, x_atas)\n",
        "print( ans)"
      ]
    },
    {
      "cell_type": "markdown",
      "metadata": {
        "id": "hcz6MakgaVYQ"
      },
      "source": [
        " ## Hitung integral lipat dua, dengan batas \n",
        "\n",
        "CONTOH: $   f(x,y)=\\int_{0}^{2}\\int_{x}^{6-x^2}\\ (3x+2y)\\ dydx  $"
      ]
    },
    {
      "cell_type": "code",
      "execution_count": null,
      "metadata": {
        "colab": {
          "base_uri": "https://localhost:8080/"
        },
        "id": "9oK8j-a_JrGr",
        "outputId": "6cdeb984-4cc8-4887-e1f7-9373a5efa519"
      },
      "outputs": [
        {
          "name": "stdout",
          "output_type": "stream",
          "text": [
            "59.733333333333334\n"
          ]
        }
      ],
      "source": [
        "# Perhitungan integral lipat dua dengan batas, integralkan y dulu baru x\n",
        "from scipy.integrate import dblquad\n",
        "import numpy as np\n",
        "\n",
        "# input fungsi f(x,y)\n",
        "def integrand2(y, x):\n",
        "    'Harus integralkan y dulu baru x'\n",
        "    return  (3*x+2*y)\n",
        "\n",
        "# inputkan batas x (harus konstanta)\n",
        "x_bawah = 0\n",
        "x_atas = 2\n",
        "\n",
        "ans, err = dblquad(integrand2, x_bawah, x_atas,\n",
        "                   lambda x: x,          #<--- input y batas bawah, bisa dalam fungsi x atau bilangan\n",
        "                   lambda x: 6-x**2)     #<--- input y batas atas, bisa dalam fungsi x atau bilangan\n",
        "print( ans)"
      ]
    },
    {
      "cell_type": "markdown",
      "metadata": {
        "id": "ve3zd0jRhzfX"
      },
      "source": [
        "## Menghitung nilai kombinasi\n",
        "\n",
        "${n \\choose k }= \\frac{n!}{k! \\cdot (n-k)!}$\n",
        "\n",
        "$P(X=2) =Binom(2;n=10,p=0.5) = {10 \\choose 2 } \\cdot (0.5)^2 \\cdot (1-0.5)^8$\n"
      ]
    },
    {
      "cell_type": "code",
      "execution_count": null,
      "metadata": {
        "colab": {
          "base_uri": "https://localhost:8080/"
        },
        "id": "U9IfMuuRijKV",
        "outputId": "c7f61570-1e86-4ed8-fcf6-5e03e5be19b1"
      },
      "outputs": [
        {
          "name": "stdout",
          "output_type": "stream",
          "text": [
            "Nilai kombinasinya adalah:  3.0\n",
            "hasil =  0.01033751125384763\n"
          ]
        }
      ],
      "source": [
        "import math\n",
        "def kombinasi(n,k):\n",
        "  return math.factorial(n)/math.factorial(k)/math.factorial(n-k)\n",
        "\n",
        "#input nilai n dan k\n",
        "n = 3\n",
        "k = 1\n",
        "\n",
        "print('Nilai kombinasinya adalah: ',kombinasi(n,k))  \n",
        "print('hasil = ', kombinasi(15,50)*(0.6**50.)*(0.4**50.))"
      ]
    },
    {
      "cell_type": "code",
      "execution_count": null,
      "metadata": {
        "id": "zSvb1v-iZJjy"
      },
      "outputs": [],
      "source": [
        "def func(x,y):\n",
        "  return kombinasi(3,x)*kombinasi(2,y)*kombinasi(3,4-x-y)/kombinasi(8,4)"
      ]
    },
    {
      "cell_type": "code",
      "execution_count": null,
      "metadata": {
        "colab": {
          "base_uri": "https://localhost:8080/"
        },
        "id": "hdWfFKk3Zgl0",
        "outputId": "b29ca818-d2a7-43f6-eee4-2de0d71d6f60"
      },
      "outputs": [
        {
          "name": "stdout",
          "output_type": "stream",
          "text": [
            "0.49999999999999994\n"
          ]
        }
      ],
      "source": [
        "print(func(0,1)+func(0,2)+func(1,0)+func(1,1)+func(2,0))"
      ]
    },
    {
      "cell_type": "code",
      "execution_count": null,
      "metadata": {
        "colab": {
          "base_uri": "https://localhost:8080/"
        },
        "id": "jhQRqPzy6zCj",
        "outputId": "04265f53-c187-4110-d4a2-105daaf135d9"
      },
      "outputs": [
        {
          "name": "stdout",
          "output_type": "stream",
          "text": [
            "hasil =  0.10460705986934263\n"
          ]
        }
      ],
      "source": [
        "print('hasil = ', (kombinasi(50,2)*kombinasi(50,6)/kombinasi(100,8)))"
      ]
    },
    {
      "cell_type": "markdown",
      "metadata": {
        "id": "oc_MYiM1f8Wh"
      },
      "source": [
        "# Berguna hanya untuk CLO-3 dan CLO-4"
      ]
    },
    {
      "cell_type": "markdown",
      "metadata": {
        "id": "ks2sD0uvJyWk"
      },
      "source": [
        "## Kalkulator Fungsi distribusi Khusus untuk peubah acak diskrit dan kontinyu (CLO-3) "
      ]
    },
    {
      "cell_type": "code",
      "execution_count": null,
      "metadata": {
        "id": "yQFgSYOOtV16"
      },
      "outputs": [],
      "source": [
        "import scipy.stats as ss\n",
        "import numpy as np\n",
        "import math"
      ]
    },
    {
      "cell_type": "code",
      "execution_count": null,
      "metadata": {
        "colab": {
          "base_uri": "https://localhost:8080/"
        },
        "id": "pH7ZNZzOh-tB",
        "outputId": "1adb3497-13e8-4daf-b4fe-c8ae14ea9cde"
      },
      "outputs": [
        {
          "name": "stdout",
          "output_type": "stream",
          "text": [
            "0.07216017981325695\n",
            "0.20323661773702328\n",
            "0.08030139707139416\n",
            "0.13385261753998337\n",
            "0.13385261753998332\n"
          ]
        }
      ],
      "source": [
        "mu = 2 # mobil per jam\n",
        "n=1875\n",
        "p=0.004\n",
        "mu1= 50 # per jam\n",
        "mu2= 5/6 # per menit\n",
        "# 1-P(X<=60)\n",
        "print(1-ss.poisson.cdf(60,mu1))\n",
        "# 1-P(Y<=1)\n",
        "print(1-ss.poisson.cdf(1,mu2))\n",
        "# Soal NO.2 dist poisson\n",
        "print(1-ss.poisson.cdf(2,1))\n",
        "# Soal no.4 dist.poisson\n",
        "print(np.exp(-6)*6**4/math.factorial(4))\n",
        "print(ss.poisson.pmf(4,6))\n"
      ]
    },
    {
      "cell_type": "code",
      "execution_count": null,
      "metadata": {
        "colab": {
          "base_uri": "https://localhost:8080/"
        },
        "id": "4bAVPds0VagZ",
        "outputId": "f8b905c4-ee24-4c84-9195-1fb7e00a4af8"
      },
      "outputs": [
        {
          "name": "stdout",
          "output_type": "stream",
          "text": [
            "0.3233235838169366\n",
            "0.3233213054643431\n"
          ]
        }
      ],
      "source": [
        "# soal nomor 5 kesalahan pada pengiriman pesan\n",
        "## x~ poisson\n",
        "mu=2\n",
        "print(1-ss.poisson.cdf(2,mu))\n",
        "## x~binomial\n",
        "n=200\n",
        "p=1/100\n",
        "print(1-ss.binom.cdf(2,n,p))"
      ]
    },
    {
      "cell_type": "code",
      "execution_count": null,
      "metadata": {
        "colab": {
          "base_uri": "https://localhost:8080/"
        },
        "id": "bm7QF6KkYfbH",
        "outputId": "87eb711e-3c51-4ca2-a2f6-e0376be8114f"
      },
      "outputs": [
        {
          "name": "stdout",
          "output_type": "stream",
          "text": [
            "0.26424111765711533\n",
            "0.26423802107704364\n",
            "0.04042768199451279\n",
            "0.037081209327355036\n"
          ]
        }
      ],
      "source": [
        "# Soal nomor 6 poisson distribution\n",
        "## bag a\n",
        "print(1-ss.poisson.cdf(1,1))\n",
        "print(1-ss.binom.cdf(1,100,0.01))\n",
        "## bag b\n",
        "print(ss.poisson.cdf(1,5)) \n",
        "print(ss.binom.cdf(1,100,0.05))\n"
      ]
    },
    {
      "cell_type": "code",
      "execution_count": null,
      "metadata": {
        "colab": {
          "base_uri": "https://localhost:8080/"
        },
        "id": "aP6YSb02cYyo",
        "outputId": "435ce66a-25cc-4872-8cc1-3840b658e265"
      },
      "outputs": [
        {
          "name": "stdout",
          "output_type": "stream",
          "text": [
            "0.7142857142857143\n"
          ]
        }
      ],
      "source": [
        "# DISTRIBUSI UNIFORM\n",
        "print(1-ss.uniform.cdf(4,2,7))"
      ]
    },
    {
      "cell_type": "code",
      "execution_count": null,
      "metadata": {
        "colab": {
          "base_uri": "https://localhost:8080/"
        },
        "id": "fSnbgd95vbE3",
        "outputId": "9b1e1b86-c561-419e-872a-c04a90fb22ee"
      },
      "outputs": [
        {
          "name": "stdout",
          "output_type": "stream",
          "text": [
            "0.000672234069807001\n",
            "0.9499874599462239\n",
            "0.4838367067033501\n"
          ]
        }
      ],
      "source": [
        "# Binomial DIstribution\n",
        "# Evaluate binomial distribution value f(x) (pmf: probability mass function)\n",
        "def fval_binom(x,n,p):\n",
        "  return ss.binom.pmf(x,n,p)\n",
        "\n",
        "## Contoh hitung f(3;n=10,p=0.4):  \n",
        "#print(fval_binom(50,100,0.6), kombinasi(100,50)*(0.6**50.)*(0.4**50.))\n",
        "\n",
        "\n",
        "## Evaluate cummulative distribution function F(x) = P(X<=x). Contoh P(X<=5) dengan n=10 dan p=0.5.\n",
        "print(ss.binom.cdf(4,15,0.7))\n",
        "print(1-ss.binom.cdf(7,15,0.7))\n",
        "print(ss.binom.cdf(10,15,0.7)-ss.binom.cdf(4,15,0.7))\n",
        "#print(sum([ss.binom.pmf(x,10,0.5) for x in range(6)]))"
      ]
    },
    {
      "cell_type": "markdown",
      "metadata": {
        "id": "z9lsdryHWHFc"
      },
      "source": [
        "# $1 - P(X\\leq 14)$, dengan n=50, dan p=0.2"
      ]
    },
    {
      "cell_type": "markdown",
      "metadata": {
        "id": "BCozvD3lrSc0"
      },
      "source": [
        "`"
      ]
    },
    {
      "cell_type": "code",
      "execution_count": null,
      "metadata": {
        "colab": {
          "base_uri": "https://localhost:8080/"
        },
        "id": "HxEyCNzqrgb3",
        "outputId": "7ce448d3-9401-4278-f372-1309e1bcb527"
      },
      "outputs": [
        {
          "name": "stdout",
          "output_type": "stream",
          "text": [
            "0.06072207963194909\n",
            "0.3703517222938658\n",
            "1.914213562373095\n"
          ]
        }
      ],
      "source": [
        "import math \n",
        "print(1 - ss.binom.cdf(14,50,0.2))\n",
        "print(ss.binom.cdf(15,20,0.2) - ss.binom.cdf(4,20,0.2))\n",
        "print((14-10)/math.sqrt(8) + 0.5)"
      ]
    },
    {
      "cell_type": "code",
      "execution_count": null,
      "metadata": {
        "colab": {
          "base_uri": "https://localhost:8080/"
        },
        "id": "_SsuGNbrtAat",
        "outputId": "cf9540ab-2f65-42e8-ec18-de1d8df98388"
      },
      "outputs": [
        {
          "name": "stdout",
          "output_type": "stream",
          "text": [
            "0.20901416437880638 0.2090141643788064\n",
            "0.9834363915193856\n",
            "0.9703638361194782\n",
            "0.26609135090849406 0.2660913509084941\n"
          ]
        }
      ],
      "source": [
        "## POISSON DISTRIBUTION\n",
        "\n",
        "# Evaluate poisson distribution function f(x) (pmf: probability mass function) with parameter lambd: rata-rata X dalam suatu periode waktu. \n",
        "def fval_poiss(x,lambd):\n",
        "  return ss.poisson.pmf(x,lambd)\n",
        "  \n",
        "print(fval_poiss(3,2.4), math.exp(-2.4)*(2.4**3)/math.factorial(3))\n",
        "\n",
        "## Evaluate cummulative poisson distribution F(x) = P(X<x). Contoh P(X<=5) dengan lambd = 2\n",
        "print(ss.poisson.cdf(5,2))\n",
        "\n",
        "\n",
        "\n",
        "# jawaban contoh soal\n",
        "print(1- ss.poisson.cdf(2,7))\n",
        "\n",
        "# jawaban contoh soal 4\n",
        "print(ss.poisson.pmf(2,7/4), math.exp(-7/4)*(7/4)**2./math.factorial(2))"
      ]
    },
    {
      "cell_type": "code",
      "execution_count": null,
      "metadata": {
        "colab": {
          "base_uri": "https://localhost:8080/"
        },
        "id": "G5vMsHrhbbux",
        "outputId": "0933dd9d-d1f6-4de6-9c9e-563bdb60b13a"
      },
      "outputs": [
        {
          "name": "stdout",
          "output_type": "stream",
          "text": [
            "0.20901416437880638 0.2090141643788064\n",
            "0.9041314096636008\n",
            "0.035672510995303\n",
            "0.6527705824458281\n",
            "0.38403934516693705 0.384\n"
          ]
        }
      ],
      "source": [
        "# jawaban contoh soal-1\n",
        "##Nomor.a\n",
        "print(fval_poiss(3,2.4), math.exp(-2.4)*(2.4**3)/math.factorial(3))\n",
        "\n",
        "## Nomor.b P(X<=4)\n",
        "print(ss.poisson.cdf(4,2.4))\n",
        "\n",
        "## Nomor.c P(X>5) = 1 - P(X<=5) , X~Pois(x;\\lambda = 2.4)\n",
        "print(1-ss.poisson.cdf(5,2.4))\n",
        "\n",
        "## Nomor.d P(X>10) = 1- P(X<=10)  , X~Pois(x;\\lambda = 12)\n",
        "print(1-ss.poisson.cdf(10,12))\n",
        "\n",
        "##\n",
        "print(1-ss.poisson.cdf(5,5), 1-0.6160)"
      ]
    },
    {
      "cell_type": "code",
      "execution_count": null,
      "metadata": {
        "colab": {
          "base_uri": "https://localhost:8080/",
          "height": 190
        },
        "id": "OXyFVe_OBvUz",
        "outputId": "98035f49-5b47-477e-dc25-eb3ed3461c2b"
      },
      "outputs": [
        {
          "ename": "NameError",
          "evalue": "ignored",
          "output_type": "error",
          "traceback": [
            "\u001b[0;31m---------------------------------------------------------------------------\u001b[0m",
            "\u001b[0;31mNameError\u001b[0m                                 Traceback (most recent call last)",
            "\u001b[0;32m<ipython-input-17-25bf1e9b76be>\u001b[0m in \u001b[0;36m<module>\u001b[0;34m()\u001b[0m\n\u001b[0;32m----> 1\u001b[0;31m \u001b[0mprint\u001b[0m\u001b[0;34m(\u001b[0m\u001b[0mfval_binom\u001b[0m\u001b[0;34m(\u001b[0m\u001b[0;36m5\u001b[0m\u001b[0;34m,\u001b[0m\u001b[0;36m1000\u001b[0m\u001b[0;34m,\u001b[0m\u001b[0;36m0.02\u001b[0m\u001b[0;34m)\u001b[0m\u001b[0;34m)\u001b[0m\u001b[0;34m\u001b[0m\u001b[0;34m\u001b[0m\u001b[0m\n\u001b[0m\u001b[1;32m      2\u001b[0m \u001b[0mprint\u001b[0m\u001b[0;34m(\u001b[0m\u001b[0mfval_poiss\u001b[0m\u001b[0;34m(\u001b[0m\u001b[0;36m5\u001b[0m\u001b[0;34m,\u001b[0m\u001b[0;36m1000\u001b[0m\u001b[0;34m*\u001b[0m\u001b[0;36m0.02\u001b[0m\u001b[0;34m)\u001b[0m\u001b[0;34m,\u001b[0m \u001b[0mmath\u001b[0m\u001b[0;34m.\u001b[0m\u001b[0mexp\u001b[0m\u001b[0;34m(\u001b[0m\u001b[0;34m-\u001b[0m\u001b[0;36m20\u001b[0m\u001b[0;34m)\u001b[0m\u001b[0;34m*\u001b[0m\u001b[0;34m(\u001b[0m\u001b[0;36m20\u001b[0m\u001b[0;34m**\u001b[0m\u001b[0;36m5\u001b[0m\u001b[0;34m)\u001b[0m\u001b[0;34m/\u001b[0m\u001b[0mmath\u001b[0m\u001b[0;34m.\u001b[0m\u001b[0mfactorial\u001b[0m\u001b[0;34m(\u001b[0m\u001b[0;36m5\u001b[0m\u001b[0;34m)\u001b[0m\u001b[0;34m)\u001b[0m\u001b[0;34m\u001b[0m\u001b[0;34m\u001b[0m\u001b[0m\n",
            "\u001b[0;31mNameError\u001b[0m: name 'fval_binom' is not defined"
          ]
        }
      ],
      "source": [
        "print(fval_binom(5,1000,0.02))\n",
        "print(fval_poiss(5,1000*0.02), math.exp(-20)*(20**5)/math.factorial(5))"
      ]
    },
    {
      "cell_type": "code",
      "execution_count": null,
      "metadata": {
        "colab": {
          "base_uri": "https://localhost:8080/"
        },
        "id": "W0SbcI-ttCWu",
        "outputId": "5f3599b8-6f63-4053-a896-11a8cb43d147"
      },
      "outputs": [
        {
          "name": "stdout",
          "output_type": "stream",
          "text": [
            "hypergeom.=  0.7870622512740173\n",
            "binomial=  0.786896817389568\n"
          ]
        }
      ],
      "source": [
        "## HYPERGEOMETRIC\n",
        "# Evaluate hypergeometric distribution function f(x) (pmf) when given parameters [N,k,n] are [N:Total population, k:total pop for x, n: number of sample]\n",
        "# Contoh hitung f(5) = hypergeom(x=5;N=100, k=50, n=20)\n",
        "[N,k,n] = [100,50,8]\n",
        "# print('hasil banding = ', ss.hypergeom.pmf(0,N,k,n), (kombinasi(50,0)*kombinasi(50,8)/kombinasi(100,8)))\n",
        "\n",
        "# Evaluate the cummulative hypergeometric distribution function. Misal hitung: F(10) = P(X<=8) with parameter [N,k,n]\n",
        "# print(1-ss.hypergeom.cdf(1,60,5,10))\n",
        "# print(ss.hypergeom.pmf(1,60,5,10))\n",
        "#hypergeometri\n",
        "print(\"hypergeom.= \",ss.hypergeom.cdf(7,10000,4000,15))\n",
        "#binomial\n",
        "print(\"binomial= \",ss.binom.cdf(7,15,0.4))\n",
        "\n",
        "# jawaban soal 6\n",
        "#int(ss.hypergeom.pmf(3,50,12,10), kombinasi(12,3)*kombinasi(38,7)/kombinasi(50,10))"
      ]
    },
    {
      "cell_type": "code",
      "execution_count": null,
      "metadata": {
        "id": "-eoCJW7X3vCb"
      },
      "outputs": [],
      "source": [
        "## N=9, k=4, n=6, x = 2 P(X>=2) = 1 - P(X<2) = 1 - P(X<=1)\n",
        "N,k,n=9,4,6\n",
        "print(ss.hypergeom.pmf(2, 9, 4, 6))\n",
        "print(kombinasi(4,2)*kombinasi(5,4)/kombinasi(9,6))\n",
        "print(ss.hypergeom.cdf(1, 9,4,6))\n",
        "print(n*(k/N)*(1-k/N)*(N-n)/(N-1))"
      ]
    },
    {
      "cell_type": "code",
      "execution_count": null,
      "metadata": {
        "colab": {
          "base_uri": "https://localhost:8080/"
        },
        "id": "4CitlbDgf_vd",
        "outputId": "cc229f89-6c6d-4114-e883-0c3e47b4f3c0"
      },
      "outputs": [
        {
          "name": "stdout",
          "output_type": "stream",
          "text": [
            "0.20901416437880638\n",
            "0.2090141643788064\n"
          ]
        }
      ],
      "source": [
        "#poisson hitungf\n",
        "import math\n",
        "print(ss.poisson.pmf(3,2.4))\n",
        "print(np.exp(-2.4)*(2.4)**3/math.factorial(3))"
      ]
    },
    {
      "cell_type": "code",
      "execution_count": null,
      "metadata": {
        "id": "MPBRg0mXbuxl"
      },
      "outputs": [],
      "source": [
        "# P(9<X<=14) = P(X<=14) - P(X<=9) \n",
        "N=1700; k = 11900; n=18\n",
        "print(0.7*17000)\n",
        "print(ss.hypergeom.cdf(14,N,k,n) - ss.hypergeom.cdf(9,N,k,n))\n",
        "print(ss.binom.cdf(14,18,0.7)-ss.binom.cdf(9,18,0.7))\n",
        "print(0.8354-0.0596)"
      ]
    },
    {
      "cell_type": "markdown",
      "metadata": {
        "id": "KG1yOyXsjtVG"
      },
      "source": [
        "It is estimated that 4000 of the 10,000 voting residents of a town are against a new electricity price. \\\\\n",
        "\n",
        "If 15 eligible voters are selected at random and asked their opinion, \\\\\n",
        "\n",
        "what is the probability that at most 7 favor the new electricity price?\n",
        "\n",
        "$P(X \\leq 7)$"
      ]
    },
    {
      "cell_type": "code",
      "execution_count": null,
      "metadata": {
        "id": "foidZSM3jpp3"
      },
      "outputs": [],
      "source": [
        "N=10000; k = 6000; n= 15\n",
        "p=k/N \n",
        "print(ss.hypergeom.cdf(7,N,k,n))\n",
        "print(ss.binom.cdf(7,n,p))\n"
      ]
    },
    {
      "cell_type": "code",
      "execution_count": null,
      "metadata": {
        "id": "NUvr5EFxtEJx"
      },
      "outputs": [],
      "source": [
        "# Uniform Distribution\n",
        "# Evaluate Uniform DIstribution function f(x)\n",
        "def fval_unif(x,a,b):\n",
        "  return ss.uniform.pdf((x-a)/(b-a))\n",
        "\n",
        "#Evaluate cummulative distribution function F(x) = P(X<x)\n",
        "print(ss.uniform.cdf(3, 2, 5))\n",
        "\n",
        "print(ss.uniform.pdf(3,2,5))\n",
        "# print(ss.uniform.pdf())"
      ]
    },
    {
      "cell_type": "code",
      "execution_count": null,
      "metadata": {
        "id": "_2LmsCSAtGT3"
      },
      "outputs": [],
      "source": [
        "#Exponential Distribution\n",
        "# Evaluate Exponential Distribution function f(x), with parameter beta is in time unit and its the expectation of exp random variable. \n",
        "def fval_exp(x,beta):\n",
        "  return ss.expon.pdf(1,0,beta)\n",
        "print(fval_exp(1,2),\" is a value for f(x=1;beta=2)\")\n",
        "\n",
        "# Evaluate cummulative distribution function F(x) = P(X<x) for exponential distribution, cth: P(X<1) for \\beta = 2. \n",
        "print(ss.expon.cdf(3,0,4)) \n"
      ]
    },
    {
      "cell_type": "code",
      "execution_count": null,
      "metadata": {
        "colab": {
          "base_uri": "https://localhost:8080/"
        },
        "id": "D8QvsM13tISZ",
        "outputId": "5e7fe4b0-dc5e-4622-9698-7b96da446346"
      },
      "outputs": [
        {
          "name": "stdout",
          "output_type": "stream",
          "text": [
            "0.3989422804014327\n",
            "0.017864420562816542\n",
            "0.017864420562816563\n",
            "0.950212931632136\n",
            "0.3472294175541719\n"
          ]
        }
      ],
      "source": [
        "import scipy.stats as ss\n",
        "# Normal Distribution\n",
        "# Evaluate normal distribution function f(x) (pdf), with parameter miu (mean) and sig (standard deviation).\n",
        "def fval_norm(x,mu,sig):\n",
        "  return ss.norm.pdf((x-mu)/sig)\n",
        "\n",
        "print(fval_norm(0.5,0.5,1)) \n",
        "\n",
        "# Evaluate cummulative distribution function F(x) = P(X<x) with parameter miu and sig.\n",
        "def fval_cumnorm(x,mu,sig):\n",
        "  return ss.norm.cdf((x-mu)/sig)\n",
        "\n",
        "print(ss.norm.cdf(-2.10))\n",
        "print(1-ss.norm.cdf(2.10))\n",
        "print(ss.expon.cdf(3))\n",
        "print(ss.poisson.cdf(10,12))\n",
        "\n"
      ]
    },
    {
      "cell_type": "code",
      "execution_count": null,
      "metadata": {
        "id": "5Gsg_MfhtKOO"
      },
      "outputs": [],
      "source": [
        "print((14.5-10)/math.sqrt(8) )\n",
        "print(1 - ss.norm.cdf(1.590)) # fungsi scipy.stat\n",
        "print(1- 0.9441) #dari tabel"
      ]
    },
    {
      "cell_type": "code",
      "execution_count": null,
      "metadata": {
        "id": "aZpTNpYUYhgN"
      },
      "outputs": [],
      "source": [
        "print(ss.binom.cdf(15,50,0.2) - ss.binom.cdf(4,50,0.2))\n",
        "print((15.5-10)/math.sqrt(8), (4.5-10)/math.sqrt(8))\n",
        "print(ss.norm.cdf(1.94) - ss.norm.cdf(-1.94))\n",
        "print(0.9738 - 0.0262)"
      ]
    },
    {
      "cell_type": "code",
      "execution_count": null,
      "metadata": {
        "id": "chPv9Rk9aetU"
      },
      "outputs": [],
      "source": [
        "n =80 ;p = 0.25\n",
        "mu = n*p; sig = math.sqrt(n*p*(1-p))\n",
        "print(ss.binom.cdf(30,80,0.25) - ss.binom.cdf(24, 80,0.25), '<-- dist. binomial')\n",
        "print(ss.norm.cdf((30+0.5-mu)/sig) - ss.norm.cdf((24+0.5-mu)/sig), '<-- hampiran dist. Normal')"
      ]
    },
    {
      "cell_type": "code",
      "execution_count": null,
      "metadata": {
        "id": "QvMxNC97kBir"
      },
      "outputs": [],
      "source": [
        "n = 200; p=0.1\n",
        "mu = n*p\n",
        "sig = math.sqrt(mu*(1-p))\n",
        "# soal no.6.a \n",
        "print(ss.binom.pmf(8, n,p), '<-- dist. binomial')\n",
        "print(ss.norm.cdf((8.5-mu)/sig) - ss.norm.cdf((7.5-mu)/sig), '<-- dist. normal')\n",
        "\n",
        "# Soal no.6.b\n",
        "print( 1 - ss.binom.cdf(11,n,p), '<-- dist. binomial')\n",
        "print(1 - ss.norm.cdf((11.5-mu)/sig), '<-- dist. normal')"
      ]
    },
    {
      "cell_type": "markdown",
      "metadata": {
        "id": "IGht8aNven7a"
      },
      "source": [
        "Pengaruh nilai n terhadap ketelitian hampiran normal untuk Binomial.\n",
        "\n",
        "MIsalkan kita akan menghitung $P(X = \\frac{n}{2})$, dan melihat bagaimana pengaruh nilai $n$ yang semakin besar terhadap nilai hampiran dist.Normal untuk dist.Binomial.\n",
        "\n",
        "$P(2\\leq X \\leq 3)$"
      ]
    },
    {
      "cell_type": "code",
      "execution_count": null,
      "metadata": {
        "id": "CKvgdQTLevJM"
      },
      "outputs": [],
      "source": [
        " import numpy as np\n",
        " # Misal\n",
        " n = [50+10*i for i in range(0,100)]\n",
        " p = 0.5\n",
        " x = [int(0.5*k) for k in n]\n",
        " abs_er = [abs(ss.binom.pmf(i,j,p) - (ss.norm.cdf((i+0.5 - j*p)/math.sqrt(j*p*(1-p)),j,p) - ss.norm.cdf((i-0.5 - j*p)/math.sqrt(j*p*(1-p)),j,p))) for (i,j) in zip(x,n)]\n",
        " pv = np.linspace(0.01,1,100)\n",
        " nf = 1000\n",
        " xf = nf/2\n",
        " ver_p = [abs(ss.binom.pmf(xf,nf,p) - (ss.norm.cdf((xf+0.5 - nf*p)/math.sqrt(nf*p*(1-p)),nf,p) - ss.norm.cdf((xf-0.5 - nf*p)/math.sqrt(nf*p*(1-p)),nf,p))) for p in pv]\n"
      ]
    },
    {
      "cell_type": "code",
      "execution_count": null,
      "metadata": {
        "id": "v2QcBLvze6NN"
      },
      "outputs": [],
      "source": [
        "import matplotlib.pyplot as plt\n",
        "plt.plot(n,abs_er)\n",
        "plt.xlabel(\"n\")\n",
        "plt.ylabel(\"$|P_{binom} - P_{normal}|$\")\n",
        "plt.show()\n",
        "\n",
        "plt.plot(pv,ver_p)\n",
        "plt.xlabel('$p_{sukses}$')\n",
        "plt.ylabel(\"$|P_{binom} - P_{normal}|$\")\n",
        "plt.show()\n",
        "print(abs_er[len(abs_er) - 1])"
      ]
    },
    {
      "cell_type": "code",
      "execution_count": null,
      "metadata": {
        "colab": {
          "base_uri": "https://localhost:8080/"
        },
        "id": "72BIL4IfhYrI",
        "outputId": "eaf62e80-18ba-48ba-e85b-9e9fb3350ad9"
      },
      "outputs": [
        {
          "name": "stdout",
          "output_type": "stream",
          "text": [
            "0.4812818381027856\n",
            "2.396639663966397 variansi\n",
            "3.0\n",
            "0.9957892280749154 hipergeometri\n",
            "0.995760250290176 binomial\n"
          ]
        }
      ],
      "source": [
        "N=10000; n=15; k=2000; p=k/N;\n",
        "print(ss.hypergeom.cdf(3,N,k,n) - ss.hypergeom.cdf(1,N,k,n))\n",
        "print(n*(k/N)*(1.- (k/N))*(N-n)/(N-1), 'variansi')\n",
        "print(n*k/N)\n",
        "# ditanya P(X<=7)\n",
        "print(ss.hypergeom.cdf(7,N,k,n), 'hipergeometri')\n",
        "print(ss.binom.cdf(7,n,p), 'binomial')"
      ]
    },
    {
      "cell_type": "code",
      "execution_count": null,
      "metadata": {
        "id": "mK45JwTsWwS0"
      },
      "outputs": [],
      "source": [
        "import math\n",
        "n=20; p= 0.4;\n",
        "print(13000*(1.1)**(n*p + math.sqrt(n*p*(1.-p))))"
      ]
    },
    {
      "cell_type": "code",
      "execution_count": null,
      "metadata": {
        "id": "mEBRy4u-ZrPD"
      },
      "outputs": [],
      "source": [
        "print(n*p)"
      ]
    },
    {
      "cell_type": "code",
      "execution_count": null,
      "metadata": {
        "colab": {
          "base_uri": "https://localhost:8080/"
        },
        "id": "fc7aQ-bCbe8H",
        "outputId": "0377e930-b0a0-44ae-dcc2-d69600b66880"
      },
      "outputs": [
        {
          "name": "stdout",
          "output_type": "stream",
          "text": [
            "soal No.1a\n",
            "0.06072207963194909 X berdistribusi binomial\n",
            "0.05580588414914611 X berdistribusi Normal \n",
            "\n",
            "soal No.1b\n",
            "0.9507005621577431 X~Binom\n",
            "0.9481700727820903 X~ Normal\n"
          ]
        }
      ],
      "source": [
        "import math\n",
        "# SOal NO.1 P(X>=15)\n",
        "print('soal No.1a')\n",
        "n = 50; p=0.2; \n",
        "mu = n*p; sig = math.sqrt(n*p*(1-p))\n",
        "print(1-ss.binom.cdf(14,n,p ), 'X berdistribusi binomial')\n",
        "print(1-ss.norm.cdf((14.5-mu)/sig), 'X berdistribusi Normal \\n')\n",
        "\n",
        "print('soal No.1b')\n",
        "print(ss.binom.cdf(15,n,p) - ss.binom.cdf(4,n,p), 'X~Binom')\n",
        "print(ss.norm.cdf((15.5-mu)/sig) - ss.norm.cdf((4.5-mu)/sig), 'X~ Normal')\n"
      ]
    },
    {
      "cell_type": "code",
      "execution_count": null,
      "metadata": {
        "colab": {
          "base_uri": "https://localhost:8080/"
        },
        "id": "BnrWi-7YkQdc",
        "outputId": "a3fdbcff-98fc-4b8b-f32b-ab1066aea083"
      },
      "outputs": [
        {
          "name": "stdout",
          "output_type": "stream",
          "text": [
            "No.2\n",
            "0.11927050150855678 X~binomial\n",
            "0.11928592059948362 X~ normal\n"
          ]
        }
      ],
      "source": [
        "# soal no.2 P(25<=X<=30)= P(X<=30) - P(X<25) = P(X<=30) - P(X<=24), X~binom\n",
        "print('No.2')\n",
        "n = 80; p = 0.25; mu = n*p; sig = math.sqrt(n*p*(1-p))\n",
        "print(ss.binom.cdf(30,n,p ) - ss.binom.cdf(24,n,p ),'X~binomial')\n",
        "print(ss.norm.cdf((30.5-mu)/sig) - ss.norm.cdf((24.5-mu)/sig), 'X~ normal')"
      ]
    },
    {
      "cell_type": "code",
      "execution_count": null,
      "metadata": {
        "colab": {
          "base_uri": "https://localhost:8080/"
        },
        "id": "i-urAhEXnfWc",
        "outputId": "7594ccf9-9695-4b1f-9ab4-a56ad611e4e1"
      },
      "outputs": [
        {
          "name": "stdout",
          "output_type": "stream",
          "text": [
            "Nomor 4a\n",
            "0.10053124529672369 x~ binom\n",
            "0.1003699332483258 X~normal\n",
            "Nomor 4b\n",
            "5.070453650835027e-05 x~binom\n",
            "3.270733323335051e-05 x~normal\n"
          ]
        }
      ],
      "source": [
        "# Soal No.4:\n",
        "n = 1000;p= 0.2; mu = n*p ; sig = math.sqrt(n*p*(1-p))\n",
        "\n",
        "# No. 4a. X~binomial\n",
        "print('Nomor 4a')\n",
        "print(ss.binom.cdf(184, n, p) - ss.binom.cdf(170, n, p),'x~ binom')\n",
        "print(ss.norm.cdf((184.5-mu)/sig) - ss.norm.cdf((170.5-mu)/sig),'X~normal') \n",
        "\n",
        "# nomor 4b X~normal\n",
        "print('Nomor 4b')\n",
        "print(1-ss.binom.cdf(250, n,p), 'x~binom')\n",
        "print(1 - ss.norm.cdf((250.5-mu)/sig), 'x~normal')"
      ]
    },
    {
      "cell_type": "code",
      "execution_count": null,
      "metadata": {
        "colab": {
          "base_uri": "https://localhost:8080/"
        },
        "id": "eyMvXHotz6pA",
        "outputId": "57c7d59e-6778-46d3-f7a4-3491cbb4d5cb"
      },
      "outputs": [
        {
          "name": "stdout",
          "output_type": "stream",
          "text": [
            "0.0011889876806261293\n",
            "0.0015390966465485944\n"
          ]
        }
      ],
      "source": [
        "n = 100; p=0.4; mu = n*p; sig = math.sqrt(n*p*(1-p))\n",
        "print(ss.binom.cdf(25,n,p) - ss.binom.cdf(14,n,p)) # x~binomial\n",
        "print(ss.norm.cdf((25.5-mu)/sig) - ss.norm.cdf((14.5-mu)/sig)) # x~binomial"
      ]
    },
    {
      "cell_type": "code",
      "execution_count": null,
      "metadata": {
        "colab": {
          "base_uri": "https://localhost:8080/"
        },
        "id": "YHDafb_J17cB",
        "outputId": "4012b128-a1a6-4c9d-91ed-bcf30a74da03"
      },
      "outputs": [
        {
          "name": "stdout",
          "output_type": "stream",
          "text": [
            "0.0009030369045712714\n",
            "0.0017502080962467394\n"
          ]
        }
      ],
      "source": [
        "n = 200;p = 0.1; mu=n*p; sig = math.sqrt(n*p*(1-p))\n",
        "print(ss.binom.pmf(8, n, p))\n",
        "print(ss.norm.cdf((8.5-mu)/sig) - ss.norm.cdf((7.5-mu)/sig))"
      ]
    },
    {
      "cell_type": "code",
      "execution_count": null,
      "metadata": {
        "colab": {
          "base_uri": "https://localhost:8080/"
        },
        "id": "aZHyHbC03i8M",
        "outputId": "12cc0465-5a78-43ea-afa9-b44367575b30"
      },
      "outputs": [
        {
          "name": "stdout",
          "output_type": "stream",
          "text": [
            "0.5111777700889613\n"
          ]
        }
      ],
      "source": [
        "# X~N(0,1), P(X<0.88)\n",
        "print(ss.norm.cdf(0.85) - ss.norm.cdf(-0.55))"
      ]
    },
    {
      "cell_type": "code",
      "execution_count": null,
      "metadata": {
        "colab": {
          "base_uri": "https://localhost:8080/"
        },
        "id": "WEGGElKH__Kr",
        "outputId": "84dbeda0-299d-47b7-a750-4b12b36cd98e"
      },
      "outputs": [
        {
          "name": "stdout",
          "output_type": "stream",
          "text": [
            "33.40360063442904\n"
          ]
        }
      ],
      "source": [
        "print(500*(1 - ss.norm.cdf(3/2)))"
      ]
    },
    {
      "cell_type": "code",
      "execution_count": null,
      "metadata": {
        "colab": {
          "base_uri": "https://localhost:8080/"
        },
        "id": "nawdpapVC873",
        "outputId": "031981de-ff1e-47c7-fa67-011d033726a0"
      },
      "outputs": [
        {
          "name": "stdout",
          "output_type": "stream",
          "text": [
            "0.03780157877148915 <-- hasil binomial\n",
            "0.03367597375943021 <-- hasil normal\n"
          ]
        }
      ],
      "source": [
        "import math\n",
        "n = 150; p = 0.15; mu = n*p ; sig =math.sqrt(n*p*(1-p)) \n",
        "print(1 - ss.binom.cdf(30, n, p), '<-- hasil binomial')\n",
        "print(1 - ss.norm.cdf((30.5 - mu)/sig), '<-- hasil normal')"
      ]
    },
    {
      "cell_type": "code",
      "execution_count": null,
      "metadata": {
        "id": "N3PQ0t7KIgeh"
      },
      "outputs": [],
      "source": [
        "import scipy.stats as ss\n",
        "import numpy as np\n",
        "import math"
      ]
    },
    {
      "cell_type": "code",
      "execution_count": null,
      "metadata": {
        "colab": {
          "base_uri": "https://localhost:8080/"
        },
        "id": "AhuAQLmIZlsN",
        "outputId": "1c37ab76-bafb-4ba7-efb5-39928efd7716"
      },
      "outputs": [
        {
          "name": "stdout",
          "output_type": "stream",
          "text": [
            "0.37733028152984294\n",
            "0.030396361765261393\n",
            "0.11489721625775651\n"
          ]
        }
      ],
      "source": [
        "# SOal No.1\n",
        "print(ss.norm.cdf(-5/16))\n",
        "\n",
        "# Soal No.2\n",
        "print(1 - ss.norm.cdf((360- 4*75)/16/2))\n",
        "\n",
        "print(1 - ss.norm.cdf(0.26*8/math.sqrt(3)))"
      ]
    },
    {
      "cell_type": "code",
      "execution_count": null,
      "metadata": {
        "id": "1n4f9YiHnsWC"
      },
      "outputs": [],
      "source": []
    },
    {
      "cell_type": "code",
      "execution_count": null,
      "metadata": {
        "colab": {
          "base_uri": "https://localhost:8080/"
        },
        "id": "DRCp1EpnaGRz",
        "outputId": "39c569a5-193e-4a0d-fbb0-0efe726332a4"
      },
      "outputs": [
        {
          "name": "stdout",
          "output_type": "stream",
          "text": [
            "0.64\n",
            "25.6\n"
          ]
        }
      ],
      "source": [
        "print(0.8 - (0.4)**2.)\n",
        "print(0.64*40)"
      ]
    },
    {
      "cell_type": "code",
      "execution_count": null,
      "metadata": {
        "colab": {
          "base_uri": "https://localhost:8080/"
        },
        "id": "P3kiz5s0fkrX",
        "outputId": "80927157-9a3d-4ca4-c275-1a09ccffa441"
      },
      "outputs": [
        {
          "name": "stdout",
          "output_type": "stream",
          "text": [
            "-1.2815515655446004\n"
          ]
        }
      ],
      "source": [
        "print(ss.norm.ppf(0.1))"
      ]
    },
    {
      "cell_type": "code",
      "execution_count": null,
      "metadata": {
        "colab": {
          "base_uri": "https://localhost:8080/"
        },
        "id": "BwuVZVqrgdNN",
        "outputId": "8f50926c-a5c6-4719-871b-c21f3f2693f6"
      },
      "outputs": [
        {
          "name": "stdout",
          "output_type": "stream",
          "text": [
            "0.3829249225480265\n"
          ]
        }
      ],
      "source": [
        "print(ss.norm.cdf((2.1-2)/math.sqrt(0.04)) - ss.norm.cdf((1.9-2)/math.sqrt(0.04)))"
      ]
    },
    {
      "cell_type": "code",
      "execution_count": null,
      "metadata": {
        "id": "COnG8yF-kSY-"
      },
      "outputs": [],
      "source": [
        "import scipy.stats as ss\n",
        "import math"
      ]
    },
    {
      "cell_type": "code",
      "execution_count": null,
      "metadata": {
        "colab": {
          "base_uri": "https://localhost:8080/"
        },
        "id": "iL5ZHtyueD9P",
        "outputId": "2309de28-2942-47a5-fcb3-270c8f4a1937"
      },
      "outputs": [
        {
          "name": "stdout",
          "output_type": "stream",
          "text": [
            "0.3384611195106897\n"
          ]
        }
      ],
      "source": [
        "print(1 - ss.norm.cdf((110-100)/24))"
      ]
    },
    {
      "cell_type": "code",
      "execution_count": null,
      "metadata": {
        "colab": {
          "base_uri": "https://localhost:8080/"
        },
        "id": "NFh4dSGHeRsA",
        "outputId": "cb64aa33-2947-4e7f-b9e3-731a40273aaa"
      },
      "outputs": [
        {
          "name": "stdout",
          "output_type": "stream",
          "text": [
            "0.006209665325776159\n"
          ]
        }
      ],
      "source": [
        "print(1 - ss.norm.cdf((110-100)*6/24))"
      ]
    },
    {
      "cell_type": "code",
      "execution_count": null,
      "metadata": {
        "colab": {
          "base_uri": "https://localhost:8080/"
        },
        "id": "QotjM0HDeddy",
        "outputId": "1cd19cb2-95ab-431a-c355-6036b5ec8376"
      },
      "outputs": [
        {
          "name": "stdout",
          "output_type": "stream",
          "text": [
            "0.37733028152984294\n",
            "0.030396361765261393\n"
          ]
        }
      ],
      "source": [
        "print(ss.norm.cdf((70-75)/16))\n",
        "print(1 - ss.norm.cdf((360 - 4*75)/32))"
      ]
    },
    {
      "cell_type": "code",
      "execution_count": null,
      "metadata": {
        "colab": {
          "base_uri": "https://localhost:8080/"
        },
        "id": "eidJV2A9gMnh",
        "outputId": "6fdf4481-5501-4f0c-8a6d-128b18601912"
      },
      "outputs": [
        {
          "name": "stdout",
          "output_type": "stream",
          "text": [
            "0.11489721625775651\n"
          ]
        }
      ],
      "source": [
        "print(1 - ss.norm.cdf((1.26-1)/math.sqrt(3/64)))"
      ]
    },
    {
      "cell_type": "code",
      "execution_count": null,
      "metadata": {
        "colab": {
          "base_uri": "https://localhost:8080/"
        },
        "id": "0BrjxlpziTqa",
        "outputId": "b6b2ff48-22c1-49e9-fd86-411b62acd53a"
      },
      "outputs": [
        {
          "name": "stdout",
          "output_type": "stream",
          "text": [
            "0.037637821602419685\n"
          ]
        }
      ],
      "source": [
        "print(1 - ss.norm.cdf((25-16)/math.sqrt(25.6)))"
      ]
    },
    {
      "cell_type": "code",
      "execution_count": null,
      "metadata": {
        "colab": {
          "base_uri": "https://localhost:8080/"
        },
        "id": "wycnrhsqjovE",
        "outputId": "b03c0fe0-a2a5-4329-dc6d-df893c43498a"
      },
      "outputs": [
        {
          "name": "stdout",
          "output_type": "stream",
          "text": [
            "-1.2815515655446004\n"
          ]
        }
      ],
      "source": [
        "print(ss.norm.ppf(0.1))"
      ]
    },
    {
      "cell_type": "markdown",
      "metadata": {
        "id": "SeH_KbhXrREI"
      },
      "source": [
        "$ c = \\frac{(3.4 - 3.5)\\sqrt{n}}{0.4}$ "
      ]
    },
    {
      "cell_type": "code",
      "execution_count": null,
      "metadata": {
        "colab": {
          "base_uri": "https://localhost:8080/"
        },
        "id": "5RKzCGmjrKlK",
        "outputId": "a9796160-c90b-493d-a290-4347588877c0"
      },
      "outputs": [
        {
          "name": "stdout",
          "output_type": "stream",
          "text": [
            "1082.2173816381658\n"
          ]
        }
      ],
      "source": [
        "c = ss.norm.ppf(0.05)\n",
        "print((2*c/0.1)**2)"
      ]
    },
    {
      "cell_type": "code",
      "execution_count": null,
      "metadata": {
        "colab": {
          "base_uri": "https://localhost:8080/"
        },
        "id": "iIvEYEqRruAA",
        "outputId": "fc711706-1bf1-497c-e9fd-e34fa866bd20"
      },
      "outputs": [
        {
          "name": "stdout",
          "output_type": "stream",
          "text": [
            "0.38292492254802624\n"
          ]
        }
      ],
      "source": [
        "print(ss.norm.cdf(0.1/0.2) - ss.norm.cdf(-0.1/0.2))"
      ]
    },
    {
      "cell_type": "code",
      "execution_count": null,
      "metadata": {
        "colab": {
          "base_uri": "https://localhost:8080/"
        },
        "id": "4tcPwyvItQA0",
        "outputId": "691a2e38-a901-4ca6-e2bb-474933a19ea1"
      },
      "outputs": [
        {
          "name": "stdout",
          "output_type": "stream",
          "text": [
            "0.9583677416682248\n"
          ]
        }
      ],
      "source": [
        "print(ss.norm.cdf((100-96)/math.sqrt(64/12)))"
      ]
    },
    {
      "cell_type": "code",
      "execution_count": null,
      "metadata": {
        "id": "rua4bt4cxA7N"
      },
      "outputs": [],
      "source": [
        "import scipy.stats as ss\n",
        "import math"
      ]
    },
    {
      "cell_type": "code",
      "execution_count": null,
      "metadata": {
        "colab": {
          "base_uri": "https://localhost:8080/"
        },
        "id": "t5AQ9--gPecz",
        "outputId": "6b8ebfb9-0941-4b2c-abca-2418910273b0"
      },
      "outputs": [
        {
          "name": "stdout",
          "output_type": "stream",
          "text": [
            "0.9750021048517795\n"
          ]
        }
      ],
      "source": [
        "print(ss.norm.cdf(1.96))"
      ]
    },
    {
      "cell_type": "code",
      "execution_count": null,
      "metadata": {
        "colab": {
          "base_uri": "https://localhost:8080/"
        },
        "id": "H1Hpe-FDPvo_",
        "outputId": "57fd24e4-a70c-48dd-a884-24d77abf34d7"
      },
      "outputs": [
        {
          "name": "stdout",
          "output_type": "stream",
          "text": [
            "0.24245977602193927\n"
          ]
        }
      ],
      "source": [
        "print(ss.norm.cdf(-0.65) - ss.norm.cdf(-2.16))"
      ]
    },
    {
      "cell_type": "code",
      "execution_count": null,
      "metadata": {
        "colab": {
          "base_uri": "https://localhost:8080/"
        },
        "id": "fYpYY9ZOQvNC",
        "outputId": "18ef3f90-7d3f-4be0-d277-8f47497aa258"
      },
      "outputs": [
        {
          "name": "stdout",
          "output_type": "stream",
          "text": [
            "0.054799291699557995\n"
          ]
        }
      ],
      "source": [
        "print(1- ss.norm.cdf((224-200)/15))"
      ]
    },
    {
      "cell_type": "code",
      "execution_count": null,
      "metadata": {
        "colab": {
          "base_uri": "https://localhost:8080/"
        },
        "id": "t9DatpVPTZb0",
        "outputId": "35b3b26c-e334-43eb-a57d-3d72e16253b3"
      },
      "outputs": [
        {
          "name": "stdout",
          "output_type": "stream",
          "text": [
            "0.022439898606860548\n"
          ]
        }
      ],
      "source": [
        "import scipy.stats as ss\n",
        "import math\n",
        "print(ss.binom.pmf(4,6,math.exp(-3/2)))"
      ]
    },
    {
      "cell_type": "code",
      "execution_count": null,
      "metadata": {
        "colab": {
          "base_uri": "https://localhost:8080/"
        },
        "id": "s9vuqme5bhqW",
        "outputId": "6e0c432c-7cc6-43a0-dbbe-7c70fdf2df92"
      },
      "outputs": [
        {
          "name": "stdout",
          "output_type": "stream",
          "text": [
            "peluang 40 mengklaim dari 50 penjualan=  4.884981308350689e-15\n"
          ]
        }
      ],
      "source": [
        "p=1-math.exp(-1/3)\n",
        "print(\"peluang 40 mengklaim dari 50 penjualan= \", 1-ss.binom.cdf(40,50,p))"
      ]
    },
    {
      "cell_type": "code",
      "execution_count": null,
      "metadata": {
        "colab": {
          "base_uri": "https://localhost:8080/"
        },
        "id": "fNdg4CNhXhzL",
        "outputId": "71e33f4c-901e-45d4-fb75-6acb60f13825"
      },
      "outputs": [
        {
          "name": "stdout",
          "output_type": "stream",
          "text": [
            "P(X<60)=  1.0\n",
            "0.998338442726826\n"
          ]
        }
      ],
      "source": [
        "lmd=30/3.2 # menit\n",
        "print(\"P(X<60)= \",ss.expon.cdf(60,lmd))\n",
        "print(1-math.exp(-1/lmd*60))\n"
      ]
    },
    {
      "cell_type": "code",
      "execution_count": null,
      "metadata": {
        "id": "JhMNZT9aUE-v"
      },
      "outputs": [],
      "source": [
        "import numpy as np\n",
        "import scipy as sc\n",
        "import matplotlib.pyplot as plt\n",
        "import pandas as pd"
      ]
    },
    {
      "cell_type": "code",
      "execution_count": null,
      "metadata": {
        "colab": {
          "base_uri": "https://localhost:8080/",
          "height": 544
        },
        "id": "jHw33c_brjBy",
        "outputId": "926e68f6-0711-4252-f1e9-955ee3bedd72"
      },
      "outputs": [
        {
          "data": {
            "image/png": "[encoded data removed]",
            "text/plain": [
              "<Figure size 432x288 with 1 Axes>"
            ]
          },
          "metadata": {
            "needs_background": "light"
          },
          "output_type": "display_data"
        },
        {
          "data": {
            "text/plain": [
              "<matplotlib.collections.PathCollection at 0x7fe67fafb390>"
            ]
          },
          "execution_count": 62,
          "metadata": {},
          "output_type": "execute_result"
        },
        {
          "data": {
            "image/png": "[encoded data removed]",
            "text/plain": [
              "<Figure size 432x288 with 1 Axes>"
            ]
          },
          "metadata": {
            "needs_background": "light"
          },
          "output_type": "display_data"
        }
      ],
      "source": [
        "n=100\n",
        "m=10000\n",
        "x=np.linspace(0,1,n)\n",
        "xm=np.linspace(0,1,m)\n",
        "ex1 =np.random.randn(n)*0.5+1\n",
        "ex2 =np.random.randn(n)*1+2\n",
        "y1 = 2*x+3+ex1\n",
        "y2 = 2*x+3+ex2\n",
        "y3 = np.sin(np.pi*x)+ex2\n",
        "y4 = np.sin(3*np.pi*x)+ex2\n",
        "plt.scatter(x,y1)\n",
        "plt.xlabel('x')\n",
        "plt.ylabel('y1')\n",
        "plt.plot(x,2*x+3, label=\"g1=2x+3\")\n",
        "plt.plot(x,2.5*x+4, label = \"g2=$2.5x+4$\")\n",
        "plt.plot(x,5.5-1*x, label=\"g3=-x+5\")\n",
        "plt.legend()\n",
        "plt.show()\n",
        "ex2m =np.random.randn(m)*1+2\n",
        "y5 = np.sin(3*np.pi*xm)+ex2m\n",
        "plt.scatter(xm,y5)"
      ]
    },
    {
      "cell_type": "code",
      "execution_count": null,
      "metadata": {
        "id": "VXcFhafZ7ZxS"
      },
      "outputs": [],
      "source": [
        "x = np.append(x, np.repeat(np.nan, m-n))\n",
        "y1 = np.append(y1, np.repeat(np.nan, m-n))\n",
        "y2 = np.append(y2, np.repeat(np.nan, m-n))\n",
        "y3 = np.append(y3, np.repeat(np.nan, m-n))\n",
        "y4 = np.append(y4, np.repeat(np.nan, m-n))"
      ]
    },
    {
      "cell_type": "code",
      "execution_count": null,
      "metadata": {
        "id": "npO5Vib7sNIU"
      },
      "outputs": [],
      "source": [
        "# np.savetxt('data.xlsx', [x,xm,y1,y2,y3,y4,y5], delimiter=',')\n",
        "df = pd.DataFrame({\"x\" : x, \"x2\" : xm, \"y1\" : y1,  \"y2\" : y2,  \"y3\" : y3, \"y4\" : y4, \"y5\" : y5})\n",
        "df.to_csv(\"sample.csv\", index=True)"
      ]
    },
    {
      "cell_type": "code",
      "execution_count": null,
      "metadata": {
        "colab": {
          "base_uri": "https://localhost:8080/"
        },
        "id": "WWughhCit9O0",
        "outputId": "ff0d202d-0c72-44ba-c8d2-2fddd8413ee9"
      },
      "outputs": [
        {
          "name": "stdout",
          "output_type": "stream",
          "text": [
            "(10000,) (10000,) (10000,) (10000,) (10000,)\n"
          ]
        }
      ],
      "source": [
        "print(x.shape, y1.shape, y2.shape, y3.shape, xm.shape)"
      ]
    },
    {
      "cell_type": "code",
      "execution_count": null,
      "metadata": {
        "colab": {
          "base_uri": "https://localhost:8080/",
          "height": 282
        },
        "id": "CH22HAx68Xla",
        "outputId": "6d1fc228-02e7-44ad-ca64-330a2ace04c0"
      },
      "outputs": [
        {
          "data": {
            "text/plain": [
              "[<matplotlib.lines.Line2D at 0x7fe67ef00e90>]"
            ]
          },
          "execution_count": 92,
          "metadata": {},
          "output_type": "execute_result"
        },
        {
          "data": {
            "image/png": "[encoded data removed]",
            "text/plain": [
              "<Figure size 432x288 with 1 Axes>"
            ]
          },
          "metadata": {
            "needs_background": "light"
          },
          "output_type": "display_data"
        }
      ],
      "source": [
        "# plt.scatter([0,0.3, 0.8, 0.6], [0,3,5,8])\n",
        "x = [np.random.rand() for i in range(6) ]\n",
        "y = [1.6*i for i in range(6) ]\n",
        "plt.scatter(x,y , color='b')\n",
        "plt.plot(x,6.6*np.array(x)-1 , color='r')"
      ]
    },
    {
      "cell_type": "code",
      "execution_count": null,
      "metadata": {
        "colab": {
          "base_uri": "https://localhost:8080/",
          "height": 237
        },
        "id": "I3n7dfgDVRJB",
        "outputId": "72aa0b00-1913-4504-ebde-4f6e2db07292"
      },
      "outputs": [
        {
          "data": {
            "text/html": [
              "\n",
              "  <div id=\"df-cbaae96c-6dd0-421e-907a-f353434c11ab\">\n",
              "    <div class=\"colab-df-container\">\n",
              "      <div>\n",
              "<style scoped>\n",
              "    .dataframe tbody tr th:only-of-type {\n",
              "        vertical-align: middle;\n",
              "    }\n",
              "\n",
              "    .dataframe tbody tr th {\n",
              "        vertical-align: top;\n",
              "    }\n",
              "\n",
              "    .dataframe thead th {\n",
              "        text-align: right;\n",
              "    }\n",
              "</style>\n",
              "<table border=\"1\" class=\"dataframe\">\n",
              "  <thead>\n",
              "    <tr style=\"text-align: right;\">\n",
              "      <th></th>\n",
              "      <th>X</th>\n",
              "      <th>Y</th>\n",
              "    </tr>\n",
              "  </thead>\n",
              "  <tbody>\n",
              "    <tr>\n",
              "      <th>0</th>\n",
              "      <td>0.637855</td>\n",
              "      <td>0.0</td>\n",
              "    </tr>\n",
              "    <tr>\n",
              "      <th>1</th>\n",
              "      <td>0.731012</td>\n",
              "      <td>1.6</td>\n",
              "    </tr>\n",
              "    <tr>\n",
              "      <th>2</th>\n",
              "      <td>0.878966</td>\n",
              "      <td>3.2</td>\n",
              "    </tr>\n",
              "    <tr>\n",
              "      <th>3</th>\n",
              "      <td>0.394735</td>\n",
              "      <td>4.8</td>\n",
              "    </tr>\n",
              "    <tr>\n",
              "      <th>4</th>\n",
              "      <td>0.249587</td>\n",
              "      <td>6.4</td>\n",
              "    </tr>\n",
              "    <tr>\n",
              "      <th>5</th>\n",
              "      <td>0.851657</td>\n",
              "      <td>8.0</td>\n",
              "    </tr>\n",
              "  </tbody>\n",
              "</table>\n",
              "</div>\n",
              "      <button class=\"colab-df-convert\" onclick=\"convertToInteractive('df-cbaae96c-6dd0-421e-907a-f353434c11ab')\"\n",
              "              title=\"Convert this dataframe to an interactive table.\"\n",
              "              style=\"display:none;\">\n",
              "        \n",
              "  <svg xmlns=\"http://www.w3.org/2000/svg\" height=\"24px\"viewBox=\"0 0 24 24\"\n",
              "       width=\"24px\">\n",
              "    <path d=\"M0 0h24v24H0V0z\" fill=\"none\"/>\n",
              "    <path d=\"M18.56 5.44l.94 2.06.94-2.06 2.06-.94-2.06-.94-.94-2.06-.94 2.06-2.06.94zm-11 1L8.5 8.5l.94-2.06 2.06-.94-2.06-.94L8.5 2.5l-.94 2.06-2.06.94zm10 10l.94 2.06.94-2.06 2.06-.94-2.06-.94-.94-2.06-.94 2.06-2.06.94z\"/><path d=\"M17.41 7.96l-1.37-1.37c-.4-.4-.92-.59-1.43-.59-.52 0-1.04.2-1.43.59L10.3 9.45l-7.72 7.72c-.78.78-.78 2.05 0 2.83L4 21.41c.39.39.9.59 1.41.59.51 0 1.02-.2 1.41-.59l7.78-7.78 2.81-2.81c.8-.78.8-2.07 0-2.86zM5.41 20L4 18.59l7.72-7.72 1.47 1.35L5.41 20z\"/>\n",
              "  </svg>\n",
              "      </button>\n",
              "      \n",
              "  <style>\n",
              "    .colab-df-container {\n",
              "      display:flex;\n",
              "      flex-wrap:wrap;\n",
              "      gap: 12px;\n",
              "    }\n",
              "\n",
              "    .colab-df-convert {\n",
              "      background-color: #E8F0FE;\n",
              "      border: none;\n",
              "      border-radius: 50%;\n",
              "      cursor: pointer;\n",
              "      display: none;\n",
              "      fill: #1967D2;\n",
              "      height: 32px;\n",
              "      padding: 0 0 0 0;\n",
              "      width: 32px;\n",
              "    }\n",
              "\n",
              "    .colab-df-convert:hover {\n",
              "      background-color: #E2EBFA;\n",
              "      box-shadow: 0px 1px 2px rgba(60, 64, 67, 0.3), 0px 1px 3px 1px rgba(60, 64, 67, 0.15);\n",
              "      fill: #174EA6;\n",
              "    }\n",
              "\n",
              "    [theme=dark] .colab-df-convert {\n",
              "      background-color: #3B4455;\n",
              "      fill: #D2E3FC;\n",
              "    }\n",
              "\n",
              "    [theme=dark] .colab-df-convert:hover {\n",
              "      background-color: #434B5C;\n",
              "      box-shadow: 0px 1px 3px 1px rgba(0, 0, 0, 0.15);\n",
              "      filter: drop-shadow(0px 1px 2px rgba(0, 0, 0, 0.3));\n",
              "      fill: #FFFFFF;\n",
              "    }\n",
              "  </style>\n",
              "\n",
              "      <script>\n",
              "        const buttonEl =\n",
              "          document.querySelector('#df-cbaae96c-6dd0-421e-907a-f353434c11ab button.colab-df-convert');\n",
              "        buttonEl.style.display =\n",
              "          google.colab.kernel.accessAllowed ? 'block' : 'none';\n",
              "\n",
              "        async function convertToInteractive(key) {\n",
              "          const element = document.querySelector('#df-cbaae96c-6dd0-421e-907a-f353434c11ab');\n",
              "          const dataTable =\n",
              "            await google.colab.kernel.invokeFunction('convertToInteractive',\n",
              "                                                     [key], {});\n",
              "          if (!dataTable) return;\n",
              "\n",
              "          const docLinkHtml = 'Like what you see? Visit the ' +\n",
              "            '<a target=\"_blank\" href=https://colab.research.google.com/notebooks/data_table.ipynb>data table notebook</a>'\n",
              "            + ' to learn more about interactive tables.';\n",
              "          element.innerHTML = '';\n",
              "          dataTable['output_type'] = 'display_data';\n",
              "          await google.colab.output.renderOutput(dataTable, element);\n",
              "          const docLink = document.createElement('div');\n",
              "          docLink.innerHTML = docLinkHtml;\n",
              "          element.appendChild(docLink);\n",
              "        }\n",
              "      </script>\n",
              "    </div>\n",
              "  </div>\n",
              "  "
            ],
            "text/plain": [
              "          X    Y\n",
              "0  0.637855  0.0\n",
              "1  0.731012  1.6\n",
              "2  0.878966  3.2\n",
              "3  0.394735  4.8\n",
              "4  0.249587  6.4\n",
              "5  0.851657  8.0"
            ]
          },
          "execution_count": 94,
          "metadata": {},
          "output_type": "execute_result"
        }
      ],
      "source": [
        "pd.DataFrame({\"X\":x, \"Y\":y})"
      ]
    },
    {
      "cell_type": "code",
      "execution_count": null,
      "metadata": {
        "id": "FA6Lji2RloQ4"
      },
      "outputs": [],
      "source": [
        "import numpy as np\n",
        "import scipy.stats as ss\n",
        "import math"
      ]
    },
    {
      "cell_type": "code",
      "execution_count": null,
      "metadata": {
        "colab": {
          "base_uri": "https://localhost:8080/"
        },
        "id": "M6rcHX4wkygl",
        "outputId": "fe78ca3b-a04c-4c64-e96e-139cd1e06e7c"
      },
      "outputs": [
        {
          "name": "stdout",
          "output_type": "stream",
          "text": [
            "0.7142857142857143 0.6\n"
          ]
        }
      ],
      "source": [
        "a=2\n",
        "b=7\n",
        "print(1-ss.uniform.cdf(4,a,b), (3/5))\n"
      ]
    },
    {
      "cell_type": "code",
      "execution_count": null,
      "metadata": {
        "colab": {
          "base_uri": "https://localhost:8080/"
        },
        "id": "n3O3PJljk90B",
        "outputId": "b08835e1-1b92-4136-bc88-ead8012c5aa3"
      },
      "outputs": [
        {
          "name": "stdout",
          "output_type": "stream",
          "text": [
            "4.884981308350689e-15\n"
          ]
        }
      ],
      "source": [
        "p=-(np.exp(-1/3)-1) # peluang barang perusahaan diklaim\n",
        "print(1-ss.binom.cdf(40,50, p))"
      ]
    },
    {
      "cell_type": "code",
      "execution_count": null,
      "metadata": {
        "colab": {
          "base_uri": "https://localhost:8080/"
        },
        "id": "FgUiW95LsIAK",
        "outputId": "96737b4e-d8d5-4c33-9a39-2994c2fb6d53"
      },
      "outputs": [
        {
          "name": "stdout",
          "output_type": "stream",
          "text": [
            "0.02243989860686053\n",
            "0.02243989860686055\n"
          ]
        }
      ],
      "source": [
        "p=1+(np.exp(-15/10)-1)\n",
        "## P(Y=4), y~Binom(n=6, p)\n",
        "print(ss.binom.pmf(4,6,p))\n",
        "print(6*5/2*p**4*(1-p)**2)"
      ]
    },
    {
      "cell_type": "code",
      "execution_count": null,
      "metadata": {
        "id": "1BGkHNGF3I9r"
      },
      "outputs": [],
      "source": [
        "import scipy.stats as ss\n",
        "import math"
      ]
    },
    {
      "cell_type": "code",
      "execution_count": null,
      "metadata": {
        "colab": {
          "base_uri": "https://localhost:8080/"
        },
        "id": "CFzCa0d_uYzs",
        "outputId": "dbcb561d-8d1f-411d-9829-00dba015012b"
      },
      "outputs": [
        {
          "name": "stdout",
          "output_type": "stream",
          "text": [
            "0.3934693402873666\n",
            "0.03347123582330515\n"
          ]
        }
      ],
      "source": [
        "p = 1-math.exp(-1/2)\n",
        "print(p)\n",
        "print(ss.binom.cdf(30,100,p))"
      ]
    },
    {
      "cell_type": "code",
      "execution_count": null,
      "metadata": {
        "colab": {
          "base_uri": "https://localhost:8080/"
        },
        "id": "fCCoPYtdvA0H",
        "outputId": "1749c286-bb22-4e20-d154-b3a94f460b0a"
      },
      "outputs": [
        {
          "name": "stdout",
          "output_type": "stream",
          "text": [
            "0.3472294175541719\n"
          ]
        }
      ],
      "source": [
        "print(ss.poisson.cdf(10,12))"
      ]
    },
    {
      "cell_type": "code",
      "execution_count": null,
      "metadata": {
        "id": "85GLdQyiwWNb"
      },
      "outputs": [],
      "source": []
    }
  ],
  "metadata": {
    "colab": {
      "provenance": []
    },
    "kernelspec": {
      "display_name": "Python 3.9.6 64-bit",
      "language": "python",
      "name": "python3"
    },
    "language_info": {
      "name": "python",
      "version": "3.9.6"
    },
    "vscode": {
      "interpreter": {
        "hash": "31f2aee4e71d21fbe5cf8b01ff0e069b9275f58929596ceb00d14d90e3e16cd6"
      }
    }
  },
  "nbformat": 4,
  "nbformat_minor": 0
}
